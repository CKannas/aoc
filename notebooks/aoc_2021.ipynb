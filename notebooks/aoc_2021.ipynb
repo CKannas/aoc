{
 "cells": [
  {
   "cell_type": "markdown",
   "id": "3f9ca1f8",
   "metadata": {},
   "source": [
    "# Advent of Code 2021"
   ]
  },
  {
   "cell_type": "markdown",
   "id": "d4618e79",
   "metadata": {},
   "source": [
    "This notebook shows my solutions for Advent of Code 2021."
   ]
  },
  {
   "cell_type": "markdown",
   "id": "034d5d80",
   "metadata": {},
   "source": [
    "### Utility functions"
   ]
  },
  {
   "cell_type": "code",
   "execution_count": 1,
   "id": "76b7a132",
   "metadata": {},
   "outputs": [],
   "source": [
    "import os\n",
    "\n",
    "from typing import Any\n",
    "from typing import Tuple"
   ]
  },
  {
   "cell_type": "code",
   "execution_count": 2,
   "id": "bccaa9fa",
   "metadata": {},
   "outputs": [],
   "source": [
    "def parse_input(day: int) -> Tuple[str]:\n",
    "    data_folder = \"../data/aoc2021/\"\n",
    "    input_filename = os.path.join(data_folder, f\"day_{day}_input.txt\")\n",
    "    with open(input_filename) as fp:\n",
    "        return tuple([line.strip() for line in fp.readlines()])\n",
    "    \n",
    "def convert(data: Tuple[str], data_type=str) -> Tuple[Any]:\n",
    "    return tuple(map(data_type, data))"
   ]
  },
  {
   "cell_type": "markdown",
   "id": "92a71425",
   "metadata": {},
   "source": [
    "### [Day 1: Sonar Sweep](https://adventofcode.com/2021/day/1)"
   ]
  },
  {
   "cell_type": "markdown",
   "id": "8458f62a",
   "metadata": {},
   "source": [
    "**Part 1:** \n",
    "- Count the number of times a depth measurement increases from the previous measurement. (There is no measurement before the first measurement.)"
   ]
  },
  {
   "cell_type": "code",
   "execution_count": 3,
   "id": "ce0a26dc",
   "metadata": {},
   "outputs": [
    {
     "data": {
      "text/plain": [
       "(155, 157, 156, 172, 170)"
      ]
     },
     "execution_count": 3,
     "metadata": {},
     "output_type": "execute_result"
    }
   ],
   "source": [
    "in_1 = convert(parse_input(1), data_type=int)\n",
    "\n",
    "in_1[:5]"
   ]
  },
  {
   "cell_type": "code",
   "execution_count": 4,
   "id": "5b3e2d97",
   "metadata": {},
   "outputs": [],
   "source": [
    "def count_depth_increaments(data: Tuple[int]) -> int:\n",
    "    depth_increaments = 0\n",
    "    for i in range(1, len(data)):\n",
    "        if data[i] > data[i - 1]:\n",
    "            depth_increaments += 1\n",
    "    return depth_increaments"
   ]
  },
  {
   "cell_type": "code",
   "execution_count": 5,
   "id": "1a2e9d85",
   "metadata": {},
   "outputs": [
    {
     "name": "stdout",
     "output_type": "stream",
     "text": [
      "(155, 157, 156, 172, 170)\n"
     ]
    },
    {
     "data": {
      "text/plain": [
       "2"
      ]
     },
     "execution_count": 5,
     "metadata": {},
     "output_type": "execute_result"
    }
   ],
   "source": [
    "print(f\"{in_1[:5]}\")\n",
    "\n",
    "count_depth_increaments(in_1[:5])"
   ]
  },
  {
   "cell_type": "code",
   "execution_count": 6,
   "id": "6d3e889c",
   "metadata": {},
   "outputs": [
    {
     "name": "stdout",
     "output_type": "stream",
     "text": [
      "(155, 157, 156, 172, 170, 186, 198, 189, 207, 213)\n"
     ]
    },
    {
     "data": {
      "text/plain": [
       "6"
      ]
     },
     "execution_count": 6,
     "metadata": {},
     "output_type": "execute_result"
    }
   ],
   "source": [
    "print(f\"{in_1[:10]}\")\n",
    "\n",
    "count_depth_increaments(in_1[:10])"
   ]
  },
  {
   "cell_type": "code",
   "execution_count": 7,
   "id": "c956734f",
   "metadata": {},
   "outputs": [
    {
     "data": {
      "text/plain": [
       "2000"
      ]
     },
     "execution_count": 7,
     "metadata": {},
     "output_type": "execute_result"
    }
   ],
   "source": [
    "len(in_1)"
   ]
  },
  {
   "cell_type": "code",
   "execution_count": 8,
   "id": "ca4b9484",
   "metadata": {},
   "outputs": [
    {
     "data": {
      "text/plain": [
       "1713"
      ]
     },
     "execution_count": 8,
     "metadata": {},
     "output_type": "execute_result"
    }
   ],
   "source": [
    "count_depth_increaments(in_1)"
   ]
  },
  {
   "cell_type": "markdown",
   "id": "abb06160",
   "metadata": {},
   "source": [
    "**Part 2:** \n",
    "- Consider sums of a three-measurement sliding window.\n",
    "- Count the number of times the sum of measurements in this sliding window increases from the previous sum."
   ]
  },
  {
   "cell_type": "code",
   "execution_count": 9,
   "id": "e127fbc4",
   "metadata": {},
   "outputs": [],
   "source": [
    "def sliding_window_sums(\n",
    "    data: Tuple[int],\n",
    "    window_size: int = 3,\n",
    "    debug: bool = False\n",
    ") -> Tuple[int]:\n",
    "    sliding_window = list()\n",
    "    last_idx = len(data) - window_size + 1\n",
    "    for i in range(last_idx):\n",
    "        window_sum = sum(data[i:i + window_size])\n",
    "        if debug:\n",
    "            print(f\"{i}-{i + window_size - 1}: {window_sum}\")\n",
    "        sliding_window.append(window_sum)\n",
    "        \n",
    "    return sliding_window"
   ]
  },
  {
   "cell_type": "code",
   "execution_count": 10,
   "id": "5c71ca6c",
   "metadata": {},
   "outputs": [
    {
     "name": "stdout",
     "output_type": "stream",
     "text": [
      "0-2: 468\n",
      "1-3: 485\n",
      "2-4: 498\n",
      "3-5: 528\n",
      "4-6: 554\n",
      "5-7: 573\n",
      "6-8: 594\n",
      "7-9: 609\n",
      "8-10: 642\n",
      "9-11: 663\n",
      "10-12: 679\n",
      "11-13: 684\n",
      "12-14: 676\n",
      "13-15: 673\n"
     ]
    },
    {
     "data": {
      "text/plain": [
       "[468, 485, 498, 528, 554, 573, 594, 609, 642, 663, 679, 684, 676, 673]"
      ]
     },
     "execution_count": 10,
     "metadata": {},
     "output_type": "execute_result"
    }
   ],
   "source": [
    "sliding_window_sums(in_1[:16], debug=True)"
   ]
  },
  {
   "cell_type": "code",
   "execution_count": 11,
   "id": "c6304df6",
   "metadata": {},
   "outputs": [
    {
     "data": {
      "text/plain": [
       "1998"
      ]
     },
     "execution_count": 11,
     "metadata": {},
     "output_type": "execute_result"
    }
   ],
   "source": [
    "sliding_window_depth = sliding_window_sums(in_1)\n",
    "\n",
    "len(sliding_window_depth)"
   ]
  },
  {
   "cell_type": "code",
   "execution_count": 12,
   "id": "791bd1ce",
   "metadata": {},
   "outputs": [
    {
     "data": {
      "text/plain": [
       "1734"
      ]
     },
     "execution_count": 12,
     "metadata": {},
     "output_type": "execute_result"
    }
   ],
   "source": [
    "count_depth_increaments(sliding_window_depth)"
   ]
  },
  {
   "cell_type": "markdown",
   "id": "d8465f64",
   "metadata": {},
   "source": [
    "### [Day 2: Dive!](https://adventofcode.com/2021/day/2)"
   ]
  },
  {
   "cell_type": "markdown",
   "id": "2e4255df",
   "metadata": {},
   "source": [
    "**Part 1:**\n",
    "- Calculate the horizontal position and depth you would have after following the planned course. What do you get if you multiply your final horizontal position by your final depth?"
   ]
  },
  {
   "cell_type": "code",
   "execution_count": 13,
   "id": "b809302f",
   "metadata": {},
   "outputs": [
    {
     "data": {
      "text/plain": [
       "('forward 1',\n",
       " 'down 5',\n",
       " 'down 6',\n",
       " 'down 2',\n",
       " 'forward 8',\n",
       " 'up 3',\n",
       " 'up 2',\n",
       " 'down 2',\n",
       " 'forward 9',\n",
       " 'forward 7')"
      ]
     },
     "execution_count": 13,
     "metadata": {},
     "output_type": "execute_result"
    }
   ],
   "source": [
    "in_2 = parse_input(2)\n",
    "\n",
    "in_2[:10]"
   ]
  },
  {
   "cell_type": "code",
   "execution_count": 14,
   "id": "c6a68b16",
   "metadata": {},
   "outputs": [],
   "source": [
    "def move_instruction(text: str) -> Tuple[str, float]:\n",
    "    instruction, units = text.split(\" \")\n",
    "    return instruction, float(units)"
   ]
  },
  {
   "cell_type": "code",
   "execution_count": 15,
   "id": "c5933c74",
   "metadata": {},
   "outputs": [
    {
     "data": {
      "text/plain": [
       "(('forward', 1.0),\n",
       " ('down', 5.0),\n",
       " ('down', 6.0),\n",
       " ('down', 2.0),\n",
       " ('forward', 8.0),\n",
       " ('up', 3.0),\n",
       " ('up', 2.0),\n",
       " ('down', 2.0),\n",
       " ('forward', 9.0),\n",
       " ('forward', 7.0))"
      ]
     },
     "execution_count": 15,
     "metadata": {},
     "output_type": "execute_result"
    }
   ],
   "source": [
    "movement_instructions = convert(in_2, data_type=move_instruction)\n",
    "\n",
    "movement_instructions[:10]"
   ]
  },
  {
   "cell_type": "code",
   "execution_count": 16,
   "id": "4057d8ff",
   "metadata": {},
   "outputs": [],
   "source": [
    "def calc_position(\n",
    "    instructions: Tuple[Tuple[str, float]],\n",
    "    debug: bool = False,\n",
    ") -> int:\n",
    "    horizontal_pos = depth = 0\n",
    "    for op, value in instructions:\n",
    "        if op == \"forward\":\n",
    "            horizontal_pos += value\n",
    "        elif op == \"down\":\n",
    "            depth += value\n",
    "        elif op == \"up\":\n",
    "            depth -= value\n",
    "        if debug:\n",
    "            print(f\"{op} {value}\")\n",
    "            print(f\"Pos: {horizontal_pos}\")\n",
    "            print(f\"Depth: {depth}\\n\")\n",
    "    return int(horizontal_pos * depth)"
   ]
  },
  {
   "cell_type": "code",
   "execution_count": 17,
   "id": "ebc1efaf",
   "metadata": {},
   "outputs": [
    {
     "name": "stdout",
     "output_type": "stream",
     "text": [
      "forward 1.0\n",
      "Pos: 1.0\n",
      "Depth: 0\n",
      "\n",
      "down 5.0\n",
      "Pos: 1.0\n",
      "Depth: 5.0\n",
      "\n",
      "down 6.0\n",
      "Pos: 1.0\n",
      "Depth: 11.0\n",
      "\n",
      "down 2.0\n",
      "Pos: 1.0\n",
      "Depth: 13.0\n",
      "\n",
      "forward 8.0\n",
      "Pos: 9.0\n",
      "Depth: 13.0\n",
      "\n",
      "up 3.0\n",
      "Pos: 9.0\n",
      "Depth: 10.0\n",
      "\n",
      "up 2.0\n",
      "Pos: 9.0\n",
      "Depth: 8.0\n",
      "\n",
      "down 2.0\n",
      "Pos: 9.0\n",
      "Depth: 10.0\n",
      "\n",
      "forward 9.0\n",
      "Pos: 18.0\n",
      "Depth: 10.0\n",
      "\n",
      "forward 7.0\n",
      "Pos: 25.0\n",
      "Depth: 10.0\n",
      "\n"
     ]
    },
    {
     "data": {
      "text/plain": [
       "250"
      ]
     },
     "execution_count": 17,
     "metadata": {},
     "output_type": "execute_result"
    }
   ],
   "source": [
    "calc_position(movement_instructions[:10], debug=True)"
   ]
  },
  {
   "cell_type": "code",
   "execution_count": 18,
   "id": "57b95241",
   "metadata": {},
   "outputs": [
    {
     "data": {
      "text/plain": [
       "1947824"
      ]
     },
     "execution_count": 18,
     "metadata": {},
     "output_type": "execute_result"
    }
   ],
   "source": [
    "calc_position(movement_instructions)"
   ]
  },
  {
   "cell_type": "markdown",
   "id": "bee21add",
   "metadata": {},
   "source": [
    "**Part 2:**\n",
    "- New interpretation:\n",
    "  - down X increases your aim by X units.\n",
    "  - up X decreases your aim by X units.\n",
    "  - forward X does two things:\n",
    "    - It increases your horizontal position by X units.\n",
    "    - It increases your depth by your aim multiplied by X.\n",
    "- Using this new interpretation of the commands, calculate the horizontal position and depth you would have after following the planned course. What do you get if you multiply your final horizontal position by your final depth?"
   ]
  },
  {
   "cell_type": "code",
   "execution_count": 19,
   "id": "a2168762",
   "metadata": {},
   "outputs": [],
   "source": [
    "def refined_calc_position(\n",
    "    instructions: Tuple[Tuple[str, float]],\n",
    "    debug: bool = False,\n",
    ") -> int:\n",
    "    horizontal_pos = depth = aim = 0\n",
    "    for op, value in instructions:\n",
    "        if op == \"forward\":\n",
    "            horizontal_pos += value\n",
    "            depth += aim * value\n",
    "        elif op == \"down\":\n",
    "            aim += value\n",
    "        elif op == \"up\":\n",
    "            aim -= value\n",
    "        if debug:\n",
    "            print(f\"{op} {value}\")\n",
    "            print(f\"Pos: {horizontal_pos}\")\n",
    "            print(f\"Aim: {aim}\")\n",
    "            print(f\"Depth: {depth}\\n\")\n",
    "            \n",
    "    return int(horizontal_pos * depth)"
   ]
  },
  {
   "cell_type": "code",
   "execution_count": 20,
   "id": "0583331b",
   "metadata": {},
   "outputs": [
    {
     "name": "stdout",
     "output_type": "stream",
     "text": [
      "forward 1.0\n",
      "Pos: 1.0\n",
      "Aim: 0\n",
      "Depth: 0.0\n",
      "\n",
      "down 5.0\n",
      "Pos: 1.0\n",
      "Aim: 5.0\n",
      "Depth: 0.0\n",
      "\n",
      "down 6.0\n",
      "Pos: 1.0\n",
      "Aim: 11.0\n",
      "Depth: 0.0\n",
      "\n",
      "down 2.0\n",
      "Pos: 1.0\n",
      "Aim: 13.0\n",
      "Depth: 0.0\n",
      "\n",
      "forward 8.0\n",
      "Pos: 9.0\n",
      "Aim: 13.0\n",
      "Depth: 104.0\n",
      "\n",
      "up 3.0\n",
      "Pos: 9.0\n",
      "Aim: 10.0\n",
      "Depth: 104.0\n",
      "\n",
      "up 2.0\n",
      "Pos: 9.0\n",
      "Aim: 8.0\n",
      "Depth: 104.0\n",
      "\n",
      "down 2.0\n",
      "Pos: 9.0\n",
      "Aim: 10.0\n",
      "Depth: 104.0\n",
      "\n",
      "forward 9.0\n",
      "Pos: 18.0\n",
      "Aim: 10.0\n",
      "Depth: 194.0\n",
      "\n",
      "forward 7.0\n",
      "Pos: 25.0\n",
      "Aim: 10.0\n",
      "Depth: 264.0\n",
      "\n"
     ]
    },
    {
     "data": {
      "text/plain": [
       "6600"
      ]
     },
     "execution_count": 20,
     "metadata": {},
     "output_type": "execute_result"
    }
   ],
   "source": [
    "refined_calc_position(movement_instructions[:10], debug=True)"
   ]
  },
  {
   "cell_type": "code",
   "execution_count": 21,
   "id": "c580e12c",
   "metadata": {},
   "outputs": [
    {
     "data": {
      "text/plain": [
       "1813062561"
      ]
     },
     "execution_count": 21,
     "metadata": {},
     "output_type": "execute_result"
    }
   ],
   "source": [
    "refined_calc_position(movement_instructions)"
   ]
  },
  {
   "cell_type": "code",
   "execution_count": null,
   "id": "70ded412",
   "metadata": {},
   "outputs": [],
   "source": []
  }
 ],
 "metadata": {
  "kernelspec": {
   "display_name": "Python 3 (ipykernel)",
   "language": "python",
   "name": "python3"
  },
  "language_info": {
   "codemirror_mode": {
    "name": "ipython",
    "version": 3
   },
   "file_extension": ".py",
   "mimetype": "text/x-python",
   "name": "python",
   "nbconvert_exporter": "python",
   "pygments_lexer": "ipython3",
   "version": "3.8.12"
  }
 },
 "nbformat": 4,
 "nbformat_minor": 5
}
