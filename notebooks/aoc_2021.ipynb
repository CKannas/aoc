{
 "cells": [
  {
   "cell_type": "markdown",
   "id": "74d47fc2",
   "metadata": {},
   "source": [
    "# Advent of Code 2021"
   ]
  },
  {
   "cell_type": "markdown",
   "id": "73d44173",
   "metadata": {},
   "source": [
    "This notebook shows my solutions for Advent of Code 2021."
   ]
  },
  {
   "cell_type": "markdown",
   "id": "09eb9390",
   "metadata": {},
   "source": [
    "### Utility functions"
   ]
  },
  {
   "cell_type": "code",
   "execution_count": 1,
   "id": "7819c960",
   "metadata": {},
   "outputs": [],
   "source": [
    "import os\n",
    "\n",
    "from typing import Any\n",
    "from typing import Tuple"
   ]
  },
  {
   "cell_type": "code",
   "execution_count": 2,
   "id": "08879b54",
   "metadata": {},
   "outputs": [],
   "source": [
    "def parse_input(day: int) -> Tuple[str]:\n",
    "    data_folder = \"../data/aoc2021/\"\n",
    "    input_filename = os.path.join(data_folder, f\"day_{day}_input.txt\")\n",
    "    with open(input_filename) as fp:\n",
    "        return tuple([line.strip() for line in fp.readlines()])\n",
    "    \n",
    "def convert(data: Tuple[str], data_type=str) -> Tuple[Any]:\n",
    "    return tuple(map(data_type, data))"
   ]
  },
  {
   "cell_type": "markdown",
   "id": "8d11d10f",
   "metadata": {},
   "source": [
    "### [Day 1: Sonar Sweep](https://adventofcode.com/2021/day/1)"
   ]
  },
  {
   "cell_type": "markdown",
   "id": "8bc7ec9d",
   "metadata": {},
   "source": [
    "**Part 1:** \n",
    "- Count the number of times a depth measurement increases from the previous measurement. (There is no measurement before the first measurement.)"
   ]
  },
  {
   "cell_type": "code",
   "execution_count": 3,
   "id": "38c71f36",
   "metadata": {},
   "outputs": [
    {
     "data": {
      "text/plain": [
       "(155, 157, 156, 172, 170)"
      ]
     },
     "execution_count": 3,
     "metadata": {},
     "output_type": "execute_result"
    }
   ],
   "source": [
    "in_1 = convert(parse_input(1), data_type=int)\n",
    "\n",
    "in_1[:5]"
   ]
  },
  {
   "cell_type": "code",
   "execution_count": 4,
   "id": "4c6fef95",
   "metadata": {},
   "outputs": [],
   "source": [
    "def count_depth_increaments(data: Tuple[int]) -> int:\n",
    "    depth_increaments = 0\n",
    "    for i in range(1, len(data)):\n",
    "        if data[i] > data[i - 1]:\n",
    "            depth_increaments += 1\n",
    "    return depth_increaments"
   ]
  },
  {
   "cell_type": "code",
   "execution_count": 5,
   "id": "977c5372",
   "metadata": {},
   "outputs": [
    {
     "name": "stdout",
     "output_type": "stream",
     "text": [
      "(155, 157, 156, 172, 170)\n"
     ]
    },
    {
     "data": {
      "text/plain": [
       "2"
      ]
     },
     "execution_count": 5,
     "metadata": {},
     "output_type": "execute_result"
    }
   ],
   "source": [
    "print(f\"{in_1[:5]}\")\n",
    "\n",
    "count_depth_increaments(in_1[:5])"
   ]
  },
  {
   "cell_type": "code",
   "execution_count": 6,
   "id": "ee191ac0",
   "metadata": {},
   "outputs": [
    {
     "name": "stdout",
     "output_type": "stream",
     "text": [
      "(155, 157, 156, 172, 170, 186, 198, 189, 207, 213)\n"
     ]
    },
    {
     "data": {
      "text/plain": [
       "6"
      ]
     },
     "execution_count": 6,
     "metadata": {},
     "output_type": "execute_result"
    }
   ],
   "source": [
    "print(f\"{in_1[:10]}\")\n",
    "\n",
    "count_depth_increaments(in_1[:10])"
   ]
  },
  {
   "cell_type": "code",
   "execution_count": 7,
   "id": "55db1d59",
   "metadata": {},
   "outputs": [
    {
     "data": {
      "text/plain": [
       "2000"
      ]
     },
     "execution_count": 7,
     "metadata": {},
     "output_type": "execute_result"
    }
   ],
   "source": [
    "len(in_1)"
   ]
  },
  {
   "cell_type": "code",
   "execution_count": 8,
   "id": "368c6e7b",
   "metadata": {},
   "outputs": [
    {
     "data": {
      "text/plain": [
       "1713"
      ]
     },
     "execution_count": 8,
     "metadata": {},
     "output_type": "execute_result"
    }
   ],
   "source": [
    "count_depth_increaments(in_1)"
   ]
  },
  {
   "cell_type": "markdown",
   "id": "16dfcd07",
   "metadata": {},
   "source": [
    "**Part 2:** \n",
    "- Consider sums of a three-measurement sliding window.\n",
    "- Count the number of times the sum of measurements in this sliding window increases from the previous sum."
   ]
  },
  {
   "cell_type": "code",
   "execution_count": 9,
   "id": "05111563",
   "metadata": {},
   "outputs": [],
   "source": [
    "def sliding_window_sums(\n",
    "    data: Tuple[int],\n",
    "    window_size: int = 3,\n",
    "    debug: bool = False\n",
    ") -> Tuple[int]:\n",
    "    sliding_window = list()\n",
    "    last_idx = len(data) - window_size + 1\n",
    "    for i in range(last_idx):\n",
    "        window_sum = sum(data[i:i + window_size])\n",
    "        if debug:\n",
    "            print(f\"{i}-{i + window_size - 1}: {window_sum}\")\n",
    "        sliding_window.append(window_sum)\n",
    "        \n",
    "    return sliding_window"
   ]
  },
  {
   "cell_type": "code",
   "execution_count": 10,
   "id": "2ed0c9f7",
   "metadata": {},
   "outputs": [
    {
     "name": "stdout",
     "output_type": "stream",
     "text": [
      "0-2: 468\n",
      "1-3: 485\n",
      "2-4: 498\n",
      "3-5: 528\n",
      "4-6: 554\n",
      "5-7: 573\n",
      "6-8: 594\n",
      "7-9: 609\n",
      "8-10: 642\n",
      "9-11: 663\n",
      "10-12: 679\n",
      "11-13: 684\n",
      "12-14: 676\n",
      "13-15: 673\n"
     ]
    },
    {
     "data": {
      "text/plain": [
       "[468, 485, 498, 528, 554, 573, 594, 609, 642, 663, 679, 684, 676, 673]"
      ]
     },
     "execution_count": 10,
     "metadata": {},
     "output_type": "execute_result"
    }
   ],
   "source": [
    "sliding_window_sums(in_1[:16], debug=True)"
   ]
  },
  {
   "cell_type": "code",
   "execution_count": 11,
   "id": "97fffaa9",
   "metadata": {},
   "outputs": [
    {
     "data": {
      "text/plain": [
       "1998"
      ]
     },
     "execution_count": 11,
     "metadata": {},
     "output_type": "execute_result"
    }
   ],
   "source": [
    "sliding_window_depth = sliding_window_sums(in_1)\n",
    "\n",
    "len(sliding_window_depth)"
   ]
  },
  {
   "cell_type": "code",
   "execution_count": 12,
   "id": "ecd52f44",
   "metadata": {},
   "outputs": [
    {
     "data": {
      "text/plain": [
       "1734"
      ]
     },
     "execution_count": 12,
     "metadata": {},
     "output_type": "execute_result"
    }
   ],
   "source": [
    "count_depth_increaments(sliding_window_depth)"
   ]
  },
  {
   "cell_type": "code",
   "execution_count": null,
   "id": "02efdf47",
   "metadata": {},
   "outputs": [],
   "source": []
  }
 ],
 "metadata": {
  "kernelspec": {
   "display_name": "Python 3 (ipykernel)",
   "language": "python",
   "name": "python3"
  },
  "language_info": {
   "codemirror_mode": {
    "name": "ipython",
    "version": 3
   },
   "file_extension": ".py",
   "mimetype": "text/x-python",
   "name": "python",
   "nbconvert_exporter": "python",
   "pygments_lexer": "ipython3",
   "version": "3.8.12"
  }
 },
 "nbformat": 4,
 "nbformat_minor": 5
}
